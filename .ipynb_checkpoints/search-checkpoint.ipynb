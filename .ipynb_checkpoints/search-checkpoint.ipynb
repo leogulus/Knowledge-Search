{
 "metadata": {
  "name": "",
  "signature": "sha256:876b34512a92f4283bc0b02e56f4c902f6c79afc46712af956f0d5e207887a87"
 },
 "nbformat": 3,
 "nbformat_minor": 0,
 "worksheets": [
  {
   "cells": [
    {
     "cell_type": "code",
     "collapsed": false,
     "input": [
      "import pickle\n",
      "from igraph import *\n",
      "import pylab as plt\n",
      "import numpy as np\n",
      "from itertools import combinations\n",
      "import random\n",
      "import sys\n",
      "import time\n",
      "from statsmodels.tools.tools import ECDF\n",
      "from scipy.stats import gaussian_kde\n",
      "import math\n",
      "%matplotlib inline"
     ],
     "language": "python",
     "metadata": {},
     "outputs": [],
     "prompt_number": 1
    },
    {
     "cell_type": "code",
     "collapsed": false,
     "input": [
      "class Stopwatch:\n",
      "    start_time=None\n",
      "    def go(self):\n",
      "        self.start_time=time.time()\n",
      "        sys.stdout.flush()\n",
      "    def stop(self):\n",
      "        print \"Elapsed time: %f seconds\" % (time.time()-self.start_time)\n",
      "        sys.stdout.flush()"
     ],
     "language": "python",
     "metadata": {},
     "outputs": [],
     "prompt_number": 3
    },
    {
     "cell_type": "code",
     "collapsed": false,
     "input": [
      "N=10 # no. of nodes\n",
      "M=20 # no. of edges\n",
      "tic=Stopwatch()\n",
      "tic.go()\n",
      "print \"Loading network...\",\n",
      "G=Graph.Erdos_Renyi(n=N,m=M)\n",
      "#G=Graph.Barabasi(n=N,m=4)\n",
      "#G=Graph.Watts_Strogatz(1, N, 2, 0.1, loops=False, multiple=False)\n",
      "tic.stop()\n",
      "tic.go()\n",
      "V=range(G.vcount()) # set of nodes\n",
      "tested=set() # pairs that are tested\n",
      "found=0 # no. of edges found\n",
      "cost_rand=[0] # cost for random strategy\n",
      "i=0\n",
      "while i<2000000:\n",
      "    u=random.choice(V)\n",
      "    v=random.choice(V)\n",
      "    if (u==v) or (tuple(sorted((u,v))) in tested):\n",
      "        continue\n",
      "    i+=1\n",
      "    eid=G.get_eid(u,v,False,False) # test if the edge exists\n",
      "    if eid!=-1:\n",
      "        found+=1\n",
      "        cost_rand.append(i)\n",
      "        if found==G.ecount(): # if all edges are found\n",
      "            break\n",
      "    tested.add(tuple(sorted((u,v)))) # this pair has been tested\n",
      "\n",
      "print \"Random strategy finds {} links.\".format(found),\n",
      "tic.stop()\n",
      "\n",
      "tic.go()\n",
      "Gh=Graph(N,directed=False) # start from an empty graph\n",
      "tested=set()\n",
      "found=0\n",
      "cost_degree=[0]\n",
      "i=0\n",
      "while i<2000000:\n",
      "    u=random.choice(V)\n",
      "    v=random.choice(V)\n",
      "    if (u==v) or (tuple(sorted((u,v))) in tested):\n",
      "        continue\n",
      "    if random.random()>1.0*(Gh.degree(u)*Gh.degree(v)+1)/N: # test this pair with the prob. = product of degrees\n",
      "        continue\n",
      "    i+=1\n",
      "    eid=G.get_eid(u,v,False,False)\n",
      "    if eid!=-1:\n",
      "        found+=1\n",
      "        cost_degree.append(i)\n",
      "        Gh.add_edge(u,v)\n",
      "        if found==G.ecount():\n",
      "            break\n",
      "    tested.add(tuple(sorted((u,v))))\n",
      "\n",
      "print \"Degree strategy finds {} links.\".format(found),\n",
      "tic.stop()\n",
      "\n",
      "tic.go()\n",
      "Gh=Graph(N,directed=False)\n",
      "tested=set()\n",
      "found=0\n",
      "cost_neighbor=[0]\n",
      "i=0\n",
      "while i<2000000:\n",
      "    u=random.choice(V)\n",
      "    v=random.choice(V)\n",
      "    if (u==v) or (tuple(sorted((u,v))) in tested):\n",
      "        continue\n",
      "    if random.random()>(len(np.intersect1d(Gh.neighbors(u),Gh.neighbors(v)))+0.1)/(len(np.union1d(Gh.neighbors(u),Gh.neighbors(v)))+1):\n",
      "        continue\n",
      "    i+=1\n",
      "    eid=G.get_eid(u,v,False,False)\n",
      "    if eid!=-1:\n",
      "        found+=1\n",
      "        cost_neighbor.append(i)\n",
      "        Gh.add_edge(u,v)\n",
      "        if found==G.ecount():\n",
      "            break\n",
      "    tested.add(tuple(sorted((u,v))))\n",
      "\n",
      "print \"Common neighbor strategy finds {} links.\".format(found),\n",
      "tic.stop()\n",
      "\n",
      "with open(\"barabasi2.pkl\",'wb') as outfile:\n",
      "    pickle.dump((cost_rand,cost_degree,cost_neighbor,G.vcount(),G.ecount()),outfile)"
     ],
     "language": "python",
     "metadata": {},
     "outputs": [
      {
       "output_type": "stream",
       "stream": "stdout",
       "text": [
        "Loading network... Elapsed time: 0.000370 seconds\n"
       ]
      },
      {
       "output_type": "stream",
       "stream": "stdout",
       "text": [
        "Random strategy finds 20 links. Elapsed time: 0.006451 seconds\n"
       ]
      },
      {
       "output_type": "stream",
       "stream": "stdout",
       "text": [
        "Degree strategy finds 20 links. Elapsed time: 0.005640 seconds\n"
       ]
      },
      {
       "output_type": "stream",
       "stream": "stdout",
       "text": [
        "Common neighbor strategy finds 20 links. Elapsed time: 0.130293 seconds\n"
       ]
      }
     ],
     "prompt_number": 5
    },
    {
     "cell_type": "code",
     "collapsed": false,
     "input": [
      "random.random()"
     ],
     "language": "python",
     "metadata": {},
     "outputs": [
      {
       "metadata": {},
       "output_type": "pyout",
       "prompt_number": 7,
       "text": [
        "0.42806197844921323"
       ]
      }
     ],
     "prompt_number": 7
    },
    {
     "cell_type": "heading",
     "level": 4,
     "metadata": {},
     "source": []
    },
    {
     "cell_type": "code",
     "collapsed": false,
     "input": [
      "import pandas as pd\n",
      "import statsmodels.api as sm\n",
      "\n",
      "N=10 # no. of nodes\n",
      "M=20 # no. of edges\n",
      "G=Graph.Erdos_Renyi(n=N,m=M)\n",
      "V=range(G.vcount()) # set of nodes\n",
      "\n",
      "tic.go()\n",
      "Gh=Graph(N,directed=False) # start from an empty graph\n",
      "tested=set()\n",
      "found=0\n",
      "cost_predict=[0]\n",
      "i=0\n",
      "degs=[] #list of degrees\n",
      "comms=[] # list of common neighbor\n",
      "results=[] # list of results (0 or 1)\n",
      "predict=1.0 # always true at the first two and will be changed\n",
      "\n",
      "while i<2000000:\n",
      "    u=random.choice(V)\n",
      "    v=random.choice(V)\n",
      "    if (u==v) or (tuple(sorted((u,v))) in tested):\n",
      "        continue\n",
      "        \n",
      "    #    variable = raw_input('input something!: ')    \n",
      "\n",
      "    if random.random()>predict: #predict #deg\n",
      "        continue\n",
      "    \n",
      "    deg=1.0*(Gh.degree(u)*Gh.degree(v)+1)/N\n",
      "    degs.append(deg)\n",
      "    comm=(len(np.intersect1d(Gh.neighbors(u),Gh.neighbors(v)))+0.1)/(len(np.union1d(Gh.neighbors(u),Gh.neighbors(v)))+1)\n",
      "    comms.append(comm)\n",
      "            \n",
      "    i+=1\n",
      "    eid=G.get_eid(u,v,False,False)\n",
      "    if eid!=-1:\n",
      "        results.append(1)\n",
      "        found+=1\n",
      "        cost_predict.append(i)\n",
      "        Gh.add_edge(u,v)\n",
      "        if found==G.ecount():\n",
      "            break\n",
      "    else:\n",
      "        results.append(0)\n",
      "        \n",
      "    tested.add(tuple(sorted((u,v))))\n",
      "    \n",
      "    if i>10:\n",
      "    #run logistic at the end\n",
      "        data = { \"deg\": pd.Series(degs),\"comm\": pd.Series(comms), \"results\": pd.Series(results)}\n",
      "        df = pd.DataFrame(data)\n",
      "        print df\n",
      "        \n",
      "#        model = \"results ~ deg + comm\"\n",
      "#        result = sm.formula.logit(model, data=df).fit()\n",
      "        result = sm.Logit(df['results'], sm.add_constant(df[['comm','deg']])).fit()\n",
      "    \n",
      "        param = result.params\n",
      "        print param\n",
      "        predict = result.predict([1,comm, deg])\n",
      "        print predict\n",
      "        \n",
      "#        predict=param['Intercept']+param['deg']*deg+param['comm']*comm\n",
      "#        print 'predict = ', predict\n",
      "    \n",
      "\n",
      "print \"Degree strategy finds {} links.\".format(found),\n",
      "tic.stop()\n"
     ],
     "language": "python",
     "metadata": {},
     "outputs": [
      {
       "output_type": "stream",
       "stream": "stdout",
       "text": [
        "        comm  deg  results\n",
        "0   0.100000  0.1        0\n",
        "1   0.100000  0.1        0\n",
        "2   0.100000  0.1        1\n",
        "3   0.100000  0.1        1\n",
        "4   0.050000  0.1        0\n",
        "5   0.100000  0.1        1\n",
        "6   0.033333  0.2        1\n",
        "7   0.033333  0.1        0\n",
        "8   0.033333  0.2        0\n",
        "9   0.366667  0.3        1\n",
        "10  0.033333  0.2        1\n",
        "Warning: Maximum number of iterations has been exceeded.\n",
        "         Current function value: 0.479509\n",
        "         Iterations: 35\n",
        "const   -109.943820\n",
        "comm     660.369619\n",
        "deg      443.123233\n",
        "dtype: float64\n",
        "0.666666666667\n",
        "        comm  deg  results\n",
        "0   0.100000  0.1        0\n",
        "1   0.100000  0.1        0\n",
        "2   0.100000  0.1        1\n",
        "3   0.100000  0.1        1\n",
        "4   0.050000  0.1        0\n",
        "5   0.100000  0.1        1\n",
        "6   0.033333  0.2        1\n",
        "7   0.033333  0.1        0\n",
        "8   0.033333  0.2        0\n",
        "9   0.366667  0.3        1\n",
        "10  0.033333  0.2        1\n",
        "11  0.100000  0.1        0\n",
        "Warning: Maximum number of iterations has been exceeded."
       ]
      }
     ]
    },
    {
     "cell_type": "code",
     "collapsed": false,
     "input": [
      "N=10 # no. of nodes\n",
      "M=20 # no. of edges\n",
      "G=Graph.Erdos_Renyi(n=N,m=M)\n",
      "V=range(G.vcount()) # set of nodes\n",
      "\n",
      "tic.go()\n",
      "Gh=Graph(N,directed=False) # start from an empty graph\n",
      "tested=set()\n",
      "found=0\n",
      "cost_comm2=[0]\n",
      "i=0\n",
      "degs=[] #list of degrees\n",
      "comms=[] # list of common neighbor\n",
      "results=[] # list of results (0 or 1)\n",
      "predict=1.0 # always true at the first two and will be changed\n",
      "\n",
      "while i<2000000:\n",
      "    u=random.choice(V)\n",
      "    v=random.choice(V)\n",
      "    if (u==v) or (tuple(sorted((u,v))) in tested):\n",
      "        continue  \n",
      "    if random.random()>(len(np.intersect1d(Gh.neighbors(u),Gh.neighbors(v)))+0.1): #predict #deg\n",
      "        continue\n",
      "            \n",
      "    i+=1\n",
      "    eid=G.get_eid(u,v,False,False)\n",
      "    if eid!=-1:\n",
      "        results.append(1)\n",
      "        found+=1\n",
      "        cost_degree.append(i)\n",
      "        Gh.add_edge(u,v)\n",
      "        if found==G.ecount():\n",
      "            break\n",
      "    else:\n",
      "        results.append(0)\n",
      "        \n",
      "    tested.add(tuple(sorted((u,v))))\n",
      "    \n",
      "#    if i>10:\n",
      "    #run logistic at the end\n",
      "#        data = { \"deg\": pd.Series(degs),\"comm\": pd.Series(comms), \"results\": pd.Series(results)}\n",
      "#        df = pd.DataFrame(data)\n",
      "#        print df\n",
      "        \n",
      "#        model = \"results ~ deg + comm\"\n",
      "#        result = sm.formula.logit(model, data=df).fit()\n",
      "#        result = sm.Logit(df['results'], sm.add_constant(df[['comm','deg']])).fit()\n",
      "    \n",
      "#        param = result.params\n",
      "#        print param\n",
      "#        predict = result.predict([1,comm, deg])\n",
      "#        print predict\n",
      "        \n",
      "#        predict=param['Intercept']+param['deg']*deg+param['comm']*comm\n",
      "#        print 'predict = ', predict   \n",
      "\n",
      "print \"Degree strategy finds {} links.\".format(found),\n",
      "tic.stop()"
     ],
     "language": "python",
     "metadata": {},
     "outputs": [
      {
       "metadata": {},
       "output_type": "pyout",
       "prompt_number": 154,
       "text": [
        "0.30542895417863658"
       ]
      }
     ],
     "prompt_number": 154
    },
    {
     "cell_type": "code",
     "collapsed": false,
     "input": [
      "plt.plot(cost_degree, color='red')\n",
      "plt.plot(cost_rand, color='green')\n",
      "plt.plot(cost_neighbor, color='blue')\n"
     ],
     "language": "python",
     "metadata": {},
     "outputs": [
      {
       "metadata": {},
       "output_type": "pyout",
       "prompt_number": 9,
       "text": [
        "[<matplotlib.lines.Line2D at 0x10aaafcd0>]"
       ]
      },
      {
       "metadata": {},
       "output_type": "display_data",
       "png": "[encoded data removed]",
       "text": [
        "<matplotlib.figure.Figure at 0x10a8ed350>"
       ]
      }
     ],
     "prompt_number": 9
    },
    {
     "cell_type": "code",
     "collapsed": false,
     "input": [
      "import statsmodels.api as sm\n",
      "import numpy as np \n",
      "\n",
      "x=np.array([1,2,3,4,5])\n",
      "y=np.array([1,2,3,4,9])\n",
      "z=np.array([1,0,0,1,1])\n",
      "\n",
      "\n",
      "logit = sm.Logit(z, x)\n",
      "result = logit.fit()\n",
      "print result.summary()\n",
      "print result.params"
     ],
     "language": "python",
     "metadata": {},
     "outputs": [
      {
       "output_type": "stream",
       "stream": "stdout",
       "text": [
        "Optimization terminated successfully.\n",
        "         Current function value: 0.646516\n",
        "         Iterations 4\n",
        "                           Logit Regression Results                           \n",
        "==============================================================================\n",
        "Dep. Variable:                      y   No. Observations:                    5\n",
        "Model:                          Logit   Df Residuals:                        4\n",
        "Method:                           MLE   Df Model:                            0\n",
        "Date:                Fri, 16 Jan 2015   Pseudo R-squ.:                 0.03937\n",
        "Time:                        13:07:53   Log-Likelihood:                -3.2326\n",
        "converged:                       True   LL-Null:                       -3.3651\n",
        "                                        LLR p-value:                       nan\n",
        "==============================================================================\n",
        "                 coef    std err          z      P>|z|      [95.0% Conf. Int.]\n",
        "------------------------------------------------------------------------------\n",
        "x1             0.1915      0.292      0.657      0.511        -0.380     0.763\n",
        "==============================================================================\n",
        "[ 0.19149578]\n"
       ]
      }
     ],
     "prompt_number": 59
    },
    {
     "cell_type": "code",
     "collapsed": false,
     "input": [
      "import pandas as pd\n",
      "import statsmodels.api as sm\n",
      "x1 = [1, 3, 5, 6, 8]\n",
      "x2 = [2, 4, 5, 6, 3]\n",
      "y = [0, 1, 0, 1, 1]\n",
      "d = { \"xa\": pd.Series(x),\"xb\": pd.Series(x2), \"y\": pd.Series(y)}\n",
      "df = pd.DataFrame(d)\n",
      "\n",
      "model = \"y ~ xa + xb\"\n",
      "#glm = sm.Logit(formula = model, df=df).fit()\n",
      "result = sm.formula.logit(model, data=df).fit()\n",
      "\n",
      "print result.summary()\n",
      "print '-----'\n",
      "param = result.params\n",
      "\n",
      "print param['Intercept']+param['xa']*10+param['xb']*20"
     ],
     "language": "python",
     "metadata": {},
     "outputs": [
      {
       "output_type": "stream",
       "stream": "stdout",
       "text": [
        "Optimization terminated successfully.\n",
        "         Current function value: 0.511597\n",
        "         Iterations 6\n",
        "                           Logit Regression Results                           \n",
        "==============================================================================\n",
        "Dep. Variable:                      y   No. Observations:                    5\n",
        "Model:                          Logit   Df Residuals:                        2\n",
        "Method:                           MLE   Df Model:                            2\n",
        "Date:                Fri, 16 Jan 2015   Pseudo R-squ.:                  0.2398\n",
        "Time:                        13:17:10   Log-Likelihood:                -2.5580\n",
        "converged:                       True   LL-Null:                       -3.3651\n",
        "                                        LLR p-value:                    0.4462\n",
        "==============================================================================\n",
        "                 coef    std err          z      P>|z|      [95.0% Conf. Int.]\n",
        "------------------------------------------------------------------------------\n",
        "Intercept     -2.1029      3.601     -0.584      0.559        -9.161     4.955\n",
        "xa             0.5595      0.667      0.838      0.402        -0.748     1.867\n",
        "xb             0.0192      1.035      0.019      0.985        -2.010     2.049\n",
        "==============================================================================\n",
        "-----\n",
        "3.87637083098"
       ]
      },
      {
       "output_type": "stream",
       "stream": "stdout",
       "text": [
        "\n"
       ]
      }
     ],
     "prompt_number": 79
    }
   ],
   "metadata": {}
  }
 ]
}